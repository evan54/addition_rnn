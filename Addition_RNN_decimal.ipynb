{
 "cells": [
  {
   "cell_type": "markdown",
   "metadata": {},
   "source": [
    "# Addition of two numbers using RNN\n",
    "\n",
    "[Anyone can learn to code an LSTM-RNN in Python](https://iamtrask.github.io/2015/11/15/anyone-can-code-lstm/)\n",
    "\n",
    "Addition can be treated as an RNN\n",
    "\n",
    "## Problem definition\n",
    "\n",
    "The goal is to minimise the errors\n",
    "\n",
    "Dimensions are as follows:\n",
    "\n",
    "\\begin{matrix}\n",
    "    h_i &:& n_h & \\times & 1  \\\\\n",
    "    x_i &:& 2 & \\times & 1 \\\\\n",
    "    W_{hh} &:& n_h & \\times & n_h \\\\\n",
    "    W_{yh} &:& 1 & \\times & n_h \\\\\n",
    "    W_{hx} &:& n_h & \\times & 2 \\\\\n",
    "    b_h &:& n_h & \\times & 1 \\\\\n",
    "    b_y &:& 1 & \\times & 1\n",
    "\\end{matrix}\n",
    "\n",
    "The optimisation problem is\n",
    "\n",
    "\\begin{align}\n",
    "    \\min && Obj \\\\\n",
    "    over && W_{hh},& W_{hx}, W_{yh}, b_h, b_y \\\\\n",
    "    s.t. && Obj & = \\frac{1}{2} \\sum_i err_i^2 \\\\ \n",
    "        && err_i & = y_i - y_{known\\, i} \\\\\n",
    "        && y_i & = \\sigma ( z_i ) \\\\\n",
    "        && z_i & = W_{yh} \\, h_{i+1} + b_y \\\\\n",
    "        && h_{i+1} & = \\sigma ( v_i )\\\\\n",
    "        && v_i & =  W_{hh} \\, h_i + W_{hx} \\, x_i + b_h \\\\\n",
    "        && h_0 & = 0\n",
    "\\end{align}"
   ]
  },
  {
   "cell_type": "markdown",
   "metadata": {},
   "source": [
    "# Implementations"
   ]
  },
  {
   "cell_type": "markdown",
   "metadata": {},
   "source": [
    "## Tensorflow implementation\n",
    "\n",
    "[RNN with tensorflow](https://www.tensorflow.org/versions/r0.11/tutorials/recurrent/index.html)\n",
    "\n",
    "\n",
    "https://github.com/nlintz/TensorFlow-Tutorials/blob/master/07_lstm.py\n",
    "\n",
    "https://www.tensorflow.org/versions/r0.9/api_docs/python/nn.html#rnn\n",
    "\n",
    "http://stackoverflow.com/questions/38189119/simple-way-to-visualize-a-tensorflow-graph-in-jupyter"
   ]
  },
  {
   "cell_type": "code",
   "execution_count": 1,
   "metadata": {
    "collapsed": true
   },
   "outputs": [],
   "source": [
    "%matplotlib inline\n",
    "import ipywidgets as ipyw\n",
    "from importlib import reload\n",
    "import tensorflow as tf\n",
    "import utils_tf"
   ]
  },
  {
   "cell_type": "code",
   "execution_count": 2,
   "metadata": {
    "collapsed": true
   },
   "outputs": [],
   "source": [
    "n_hidden = 4\n",
    "n_epochs = int(1e4)\n",
    "alpha_param = .5\n",
    "n_bits = 8"
   ]
  },
  {
   "cell_type": "markdown",
   "metadata": {},
   "source": [
    "### Helper functions"
   ]
  },
  {
   "cell_type": "code",
   "execution_count": 3,
   "metadata": {
    "collapsed": false
   },
   "outputs": [],
   "source": [
    "# This uses the `rnn_cell` and `rnn` functionality provided by `tensorflow`.\n",
    "\n",
    "def get_digits(x_in, min_digits=0):\n",
    "    in_shape = [x for x in np.shape(x_in)]\n",
    "    x_in = np.array(x_in).flatten()\n",
    "    n_nums = len(x_in)\n",
    "    n_digits = np.maximum(len('{}'.format(x_in.max())), min_digits)\n",
    "    x_out = np.zeros([n_nums, 10, n_digits])\n",
    "    for i_x, x_ in enumerate(x_in):\n",
    "        x_str = '{}'.format(x_).zfill(n_digits)\n",
    "        for i_dig, x_dig in enumerate(x_str):\n",
    "            x_out[i_x, int(x_dig), i_dig] = 1.\n",
    "    return x_out.reshape(in_shape + [10, n_digits])\n",
    "\n",
    "def get_num(x_in):\n",
    "    '''(10 x digits)'''\n",
    "    n_system = x_in.shape[0]\n",
    "    n_digits = x_in.shape[1]\n",
    "    x_out = x_in * (n_system**np.arange(n_digits)[::-1])\n",
    "    x_out *= np.arange(n_system)[:, None]\n",
    "    return x_out.sum()"
   ]
  },
  {
   "cell_type": "markdown",
   "metadata": {},
   "source": [
    "#### Input parameters"
   ]
  },
  {
   "cell_type": "code",
   "execution_count": 4,
   "metadata": {
    "collapsed": true
   },
   "outputs": [],
   "source": [
    "numerical_base = 10\n",
    "n_digits = 2\n",
    "n_hidden = numerical_base**2+30\n",
    "n_epochs = int(1e5)"
   ]
  },
  {
   "cell_type": "markdown",
   "metadata": {},
   "source": [
    "## Hard coded network"
   ]
  },
  {
   "cell_type": "code",
   "execution_count": 26,
   "metadata": {
    "collapsed": false
   },
   "outputs": [],
   "source": [
    "# Network with parameters initialised in order to memorise how to add\n",
    "\n",
    "class hardCodedRnn(object):\n",
    "    def __init__(self):\n",
    "        self.W_hx = np.zeros([100, 20])\n",
    "        self.W_yh = np.zeros([10, 100])\n",
    "        for ii in range(10):\n",
    "            for jj in range(10):\n",
    "                self.W_hx[ii + 10*jj, ii] = 10.\n",
    "                self.W_hx[ii + 10*jj, 10+jj] = 10.\n",
    "                self.W_yh[(ii+jj)%10, ii + 10*jj] = 10.\n",
    "        self.b_y = -5\n",
    "        self.b_h = -15\n",
    "        self.sig = lambda x : 1 / (1 + np.exp(-x))\n",
    "\n",
    "    def calc(self, x1, x2):\n",
    "        x = get_digits([x1%10, x2%10]).reshape([20, 1])\n",
    "        h = self.sig(self.W_hx @ x + self.b_h)\n",
    "        y = self.sig(self.W_yh @ h + self.b_y)\n",
    "        return get_num(y>0.5)\n",
    "\n",
    "h_rnn = hardCodedRnn()"
   ]
  },
  {
   "cell_type": "code",
   "execution_count": 6,
   "metadata": {
    "collapsed": false
   },
   "outputs": [],
   "source": [
    "for ii in range(10):\n",
    "    for jj in range(10):\n",
    "        if h_rnn.calc(ii, jj) != (ii+jj)%10:\n",
    "            print(ii, jj)"
   ]
  },
  {
   "cell_type": "markdown",
   "metadata": {},
   "source": [
    "## Tensorflow implementation"
   ]
  },
  {
   "cell_type": "code",
   "execution_count": 7,
   "metadata": {
    "collapsed": true
   },
   "outputs": [],
   "source": [
    "batch_size = 100\n",
    "\n",
    "tf.reset_default_graph()\n",
    "rnn = tf.nn.rnn_cell.BasicRNNCell(n_hidden, \n",
    "                                  activation=tf.sigmoid)\n",
    "x = tf.placeholder(tf.float32, shape=[2*numerical_base, n_digits, batch_size], name='x')\n",
    "y = tf.placeholder(tf.float32, shape=[1*numerical_base, n_digits, batch_size], name='y')\n",
    "xt = tf.transpose(x)#, perm=[1, 2, 0])\n",
    "\n",
    "x_split = [x_temp[:,0,:] for x_temp in tf.split(1, n_digits, xt)[::-1]]\n",
    "h_list, _ = tf.nn.rnn(rnn, x_split, dtype=tf.float32)\n",
    "h = tf.transpose(tf.concat(0, h_list[::-1]))\n",
    "W_yh = tf.Variable(tf.random_normal([10, n_hidden], \n",
    "                                    dtype=tf.float32), name='W_yh')\n",
    "b_y = tf.Variable(tf.random_normal([1, 1], dtype=tf.float32), name='b_y')\n",
    "y_est = tf.reshape(tf.sigmoid(tf.matmul(W_yh, h) + b_y), y.get_shape())\n",
    "# l1 = tf.contrib.layers.l1_regularizer(tf.constant(0.1))\n",
    "tf_vars = tf.trainable_variables()\n",
    "cost = tf.reduce_mean((y_est - y)**2, name='cost')\n",
    "train_op = tf.train.GradientDescentOptimizer(0.1).minimize(\n",
    "    cost, name='train')"
   ]
  },
  {
   "cell_type": "code",
   "execution_count": 8,
   "metadata": {
    "collapsed": true
   },
   "outputs": [],
   "source": [
    "sess = tf.Session()\n",
    "tf.initialize_all_variables().run(session=sess)"
   ]
  },
  {
   "cell_type": "code",
   "execution_count": 9,
   "metadata": {
    "collapsed": false
   },
   "outputs": [],
   "source": [
    "n_epochs = int(1e6)\n",
    "\n",
    "f = ipyw.FloatProgress(min=0, max=n_epochs)\n",
    "display(f)\n",
    "err = []\n",
    "np.random.seed(100)\n",
    "i_epoch = 0\n",
    "for i_epoch in range(n_epochs):\n",
    "    x_rand = np.random.randint(0, 10, \n",
    "        size=[2, batch_size])\n",
    "    x_dig = get_digits(x_rand, n_digits)\n",
    "    x_dig = x_dig.transpose([0, 2, 3, 1])\n",
    "    x_dig = x_dig.reshape([-1, n_digits, batch_size])\n",
    "    y_rand = x_rand.sum(0)\n",
    "    y_dig = get_digits(y_rand, n_digits).transpose([1, 2, 0])\n",
    "    if i_epoch%100 == 0:\n",
    "        f.value = i_epoch\n",
    "        err.append(sess.run(cost,\n",
    "            feed_dict={x:x_dig, y:y_dig}))\n",
    "    sess.run(train_op, feed_dict={x:x_dig, y:y_dig})"
   ]
  },
  {
   "cell_type": "code",
   "execution_count": 29,
   "metadata": {
    "collapsed": false
   },
   "outputs": [
    {
     "name": "stdout",
     "output_type": "stream",
     "text": [
      "4.0 7.0\n",
      "11.0\n",
      "11.0\n",
      "[[ 0.          0.1       ]\n",
      " [ 1.          0.80000001]\n",
      " [ 0.          0.        ]\n",
      " [ 0.          0.        ]\n",
      " [ 0.          0.        ]\n",
      " [ 0.          0.        ]\n",
      " [ 0.          0.        ]\n",
      " [ 0.          0.        ]\n",
      " [ 0.          0.        ]\n",
      " [ 0.          0.1       ]]\n",
      "[[ 0.  0.]\n",
      " [ 1.  1.]\n",
      " [ 0.  0.]\n",
      " [ 0.  0.]\n",
      " [ 0.  0.]\n",
      " [ 0.  0.]\n",
      " [ 0.  0.]\n",
      " [ 0.  0.]\n",
      " [ 0.  0.]\n",
      " [ 0.  0.]]\n"
     ]
    }
   ],
   "source": [
    "@ipyw.interact(ii='1')\n",
    "def fun(ii='1'):\n",
    "    ii = int(ii)\n",
    "    print(get_num(x_dig[:10, :, ii]), get_num(x_dig[10:, :, ii]))\n",
    "    print(get_num(y_dig[:,:,ii]))\n",
    "    y_dig_est = np.round(sess.run(y_est, feed_dict={x:x_dig}), 1)[:,:,ii]\n",
    "    print(get_num(np.round(y_dig_est)))\n",
    "    print(np.round(sess.run(y_est, feed_dict={x:x_dig}), 1)[:,:,ii])\n",
    "    print(y_dig[:,:,ii])"
   ]
  },
  {
   "cell_type": "code",
   "execution_count": 10,
   "metadata": {
    "collapsed": false,
    "scrolled": false
   },
   "outputs": [
    {
     "data": {
      "text/plain": [
       "[<matplotlib.lines.Line2D at 0x7ff272158a58>]"
      ]
     },
     "execution_count": 10,
     "metadata": {},
     "output_type": "execute_result"
    },
    {
     "data": {
      "image/png": "[encoded data removed]",
      "text/plain": [
       "<matplotlib.figure.Figure at 0x7ff271ff2f98>"
      ]
     },
     "metadata": {},
     "output_type": "display_data"
    }
   ],
   "source": [
    "plt.plot(err)"
   ]
  },
  {
   "cell_type": "code",
   "execution_count": 24,
   "metadata": {
    "collapsed": true
   },
   "outputs": [],
   "source": [
    "def check_res(x1, x2):\n",
    "    x_digits = get_digits([x1, x2], 1)\n",
    "    y_digits = sess.run(y_est, feed_dict={x:x_digits})\n",
    "    return get_num(y_digits)"
   ]
  }
 ],
 "metadata": {
  "kernelspec": {
   "display_name": "Python 3",
   "language": "python",
   "name": "python3"
  },
  "language_info": {
   "codemirror_mode": {
    "name": "ipython",
    "version": 3
   },
   "file_extension": ".py",
   "mimetype": "text/x-python",
   "name": "python",
   "nbconvert_exporter": "python",
   "pygments_lexer": "ipython3",
   "version": "3.5.2"
  },
  "widgets": {
   "state": {
    "216776b6831a4c539a107229f905abab": {
     "views": [
      {
       "cell_index": 14
      }
     ]
    },
    "36f8ae997a2a4f95ad0500b918842b01": {
     "views": [
      {
       "cell_index": 16
      }
     ]
    }
   },
   "version": "1.2.0"
  }
 },
 "nbformat": 4,
 "nbformat_minor": 1
}
